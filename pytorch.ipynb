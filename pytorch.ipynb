{
 "cells": [
  {
   "cell_type": "markdown",
   "metadata": {},
   "source": [
    "# Pytorch Tutorial"
   ]
  },
  {
   "cell_type": "markdown",
   "metadata": {},
   "source": [
    "Pytorch is a popular deep learning framework and it's easy to get started."
   ]
  },
  {
   "cell_type": "code",
   "execution_count": 1,
   "metadata": {},
   "outputs": [],
   "source": [
    "import torch\n",
    "import torch.nn as nn\n",
    "import torch.utils.data as data\n",
    "import torchvision\n",
    "import torchvision.transforms as transforms\n",
    "from tqdm import tqdm\n",
    "import time\n",
    "\n",
    "BATCH_SIZE = 128\n",
    "NUM_EPOCHS = 10"
   ]
  },
  {
   "cell_type": "markdown",
   "metadata": {},
   "source": [
    "First, we read the mnist data, preprocess them and encapsulate them into dataloader form."
   ]
  },
  {
   "cell_type": "code",
   "execution_count": 2,
   "metadata": {},
   "outputs": [],
   "source": [
    "# preprocessing\n",
    "normalize = transforms.Normalize(mean=[.5], std=[.5])\n",
    "transform = transforms.Compose([transforms.ToTensor(), normalize])\n",
    "\n",
    "# download and load the data\n",
    "train_dataset = torchvision.datasets.MNIST(root='./mnist/', train=True, transform=transform, download=True)\n",
    "test_dataset = torchvision.datasets.MNIST(root='./mnist/', train=False, transform=transform, download=False)\n",
    "\n",
    "# encapsulate them into dataloader form\n",
    "train_loader = data.DataLoader(train_dataset, batch_size=BATCH_SIZE, shuffle=True, drop_last=True)\n",
    "test_loader = data.DataLoader(test_dataset, batch_size=BATCH_SIZE, shuffle=False, drop_last=True)"
   ]
  },
  {
   "cell_type": "markdown",
   "metadata": {},
   "source": [
    "Then, we define the model, object function and optimizer that we use to classify."
   ]
  },
  {
   "cell_type": "code",
   "execution_count": 3,
   "metadata": {},
   "outputs": [],
   "source": [
    "class SimpleNet(nn.Module):\n",
    "    def __init__(self): \n",
    "        super(SimpleNet, self).__init__()\n",
    "        self.conv1 = nn.Conv2d(1, 20, 5, 1)\n",
    "        self.conv2 = nn.Conv2d(20, 50, 5, 1)\n",
    "        self.fc1 = nn.Linear(4 * 4 * 50, 500)\n",
    "        self.fc2 = nn.Linear(500, 10)\n",
    "    def forward(self, x):\n",
    "        x = nn.functional.relu(self.conv1(x))\n",
    "        x = nn.functional.max_pool2d(x, 2, 2)\n",
    "        x = nn.functional.relu(self.conv2(x))\n",
    "        x = nn.functional.max_pool2d(x, 2, 2)\n",
    "        x = x.view(-1, 4 * 4 * 50)\n",
    "        x = nn.functional.relu(self.fc1(x))\n",
    "        x = self.fc2(x)\n",
    "        return nn.functional.log_softmax(x, dim=1)\n",
    "\n",
    "# TODO:define model\n",
    "\n",
    "model = SimpleNet()\n",
    "\n",
    "# TODO:define loss function and optimiter\n",
    "criterion = nn.CrossEntropyLoss()\n",
    "optimizer = torch.optim.Adam(model.parameters(),lr = 0.01)"
   ]
  },
  {
   "cell_type": "markdown",
   "metadata": {},
   "source": [
    "Next, we can start to train and evaluate!"
   ]
  },
  {
   "cell_type": "code",
   "execution_count": 5,
   "metadata": {
    "scrolled": true
   },
   "outputs": [
    {
     "name": "stderr",
     "output_type": "stream",
     "text": [
      "100%|████████████████████████████████████████████████████████████████████████████████| 468/468 [00:41<00:00, 11.22it/s]\n",
      "100%|████████████████████████████████████████████████████████████████████████████████| 468/468 [00:40<00:00, 11.48it/s]\n",
      "100%|████████████████████████████████████████████████████████████████████████████████| 468/468 [00:41<00:00, 11.41it/s]\n",
      "100%|████████████████████████████████████████████████████████████████████████████████| 468/468 [00:41<00:00, 11.32it/s]\n",
      "100%|████████████████████████████████████████████████████████████████████████████████| 468/468 [00:42<00:00, 10.95it/s]\n",
      "100%|████████████████████████████████████████████████████████████████████████████████| 468/468 [00:44<00:00, 10.52it/s]\n",
      "100%|████████████████████████████████████████████████████████████████████████████████| 468/468 [00:43<00:00, 10.66it/s]\n",
      "100%|████████████████████████████████████████████████████████████████████████████████| 468/468 [00:43<00:00, 10.75it/s]\n",
      "100%|████████████████████████████████████████████████████████████████████████████████| 468/468 [00:43<00:00, 10.78it/s]\n",
      "100%|████████████████████████████████████████████████████████████████████████████████| 468/468 [00:43<00:00, 10.77it/s]\n",
      "100%|████████████████████████████████████████████████████████████████████████████████| 468/468 [00:22<00:00, 21.21it/s]\n",
      "100%|████████████████████████████████████████████████████████████████████████████████| 468/468 [00:22<00:00, 21.07it/s]\n",
      "100%|████████████████████████████████████████████████████████████████████████████████| 468/468 [00:21<00:00, 21.41it/s]\n",
      "100%|████████████████████████████████████████████████████████████████████████████████| 468/468 [00:22<00:00, 21.03it/s]\n",
      "100%|████████████████████████████████████████████████████████████████████████████████| 468/468 [00:22<00:00, 21.23it/s]\n",
      "100%|████████████████████████████████████████████████████████████████████████████████| 468/468 [00:22<00:00, 21.19it/s]\n",
      "100%|████████████████████████████████████████████████████████████████████████████████| 468/468 [00:22<00:00, 20.69it/s]\n",
      "100%|████████████████████████████████████████████████████████████████████████████████| 468/468 [00:22<00:00, 20.99it/s]\n",
      "100%|████████████████████████████████████████████████████████████████████████████████| 468/468 [00:23<00:00, 19.83it/s]\n",
      "100%|████████████████████████████████████████████████████████████████████████████████| 468/468 [00:22<00:00, 20.48it/s]\n",
      "  4%|███▏                                                                               | 3/78 [00:00<00:03, 23.18it/s]"
     ]
    },
    {
     "name": "stdout",
     "output_type": "stream",
     "text": [
      "0.98913\n"
     ]
    },
    {
     "name": "stderr",
     "output_type": "stream",
     "text": [
      "100%|██████████████████████████████████████████████████████████████████████████████████| 78/78 [00:03<00:00, 20.44it/s]\n",
      "100%|██████████████████████████████████████████████████████████████████████████████████| 78/78 [00:03<00:00, 21.03it/s]\n",
      "100%|██████████████████████████████████████████████████████████████████████████████████| 78/78 [00:03<00:00, 21.79it/s]\n",
      "100%|██████████████████████████████████████████████████████████████████████████████████| 78/78 [00:03<00:00, 20.48it/s]\n",
      "100%|██████████████████████████████████████████████████████████████████████████████████| 78/78 [00:03<00:00, 21.20it/s]\n",
      "100%|██████████████████████████████████████████████████████████████████████████████████| 78/78 [00:03<00:00, 21.23it/s]\n",
      "100%|██████████████████████████████████████████████████████████████████████████████████| 78/78 [00:04<00:00, 18.55it/s]\n",
      "100%|██████████████████████████████████████████████████████████████████████████████████| 78/78 [00:04<00:00, 17.50it/s]\n",
      "100%|██████████████████████████████████████████████████████████████████████████████████| 78/78 [00:04<00:00, 18.22it/s]\n",
      "100%|██████████████████████████████████████████████████████████████████████████████████| 78/78 [00:04<00:00, 17.44it/s]"
     ]
    },
    {
     "name": "stdout",
     "output_type": "stream",
     "text": [
      "0.9809\n"
     ]
    },
    {
     "name": "stderr",
     "output_type": "stream",
     "text": [
      "\n"
     ]
    }
   ],
   "source": [
    "# train and evaluate\n",
    "for epoch in range(NUM_EPOCHS):\n",
    "    for images, labels in tqdm(train_loader):\n",
    "        # TODO:forward + backward + optimize\n",
    "        optimizer.zero_grad()\n",
    "        predict = model(images)\n",
    "        loss = criterion(predict,labels)\n",
    "        loss.backward()\n",
    "        optimizer.step()\n",
    "    \n",
    "correct = 0\n",
    "for epoch in range(NUM_EPOCHS):\n",
    "    for images, labels in tqdm(train_loader):\n",
    "        output = model(images)\n",
    "        predict = output.argmax(dim = 1,keepdim = True)\n",
    "        correct += predict.eq(labels.view_as(predict)).sum().item()\n",
    "train_accuracy = correct/(NUM_EPOCHS*len(train_loader.dataset))\n",
    "    \n",
    "correct = 0\n",
    "for epoch in range(NUM_EPOCHS):\n",
    "    for images, labels in tqdm(test_loader):\n",
    "        output = model(images)\n",
    "        predict = output.argmax(dim = 1,keepdim = True)\n",
    "        correct += predict.eq(labels.view_as(predict)).sum().item()\n",
    "test_accuracy = correct/(NUM_EPOCHS*len(test_loader.dataset))\n",
    "\n",
    "print('Training accuracy: %0.2f%%' % (train_accuracy*100))\n",
    "print('Testing accuracy: %0.2f%%' % (test_accuracy*100))\n",
    "    # evaluate\n",
    "    # TODO:calculate the accuracy using traning and testing dataset\n"
   ]
  },
  {
   "cell_type": "markdown",
   "metadata": {},
   "source": [
    "#### Q5:\n",
    "Please print the training and testing accuracy."
   ]
  }
 ],
 "metadata": {
  "kernelspec": {
   "display_name": "Python 3",
   "language": "python",
   "name": "python3"
  },
  "language_info": {
   "codemirror_mode": {
    "name": "ipython",
    "version": 3
   },
   "file_extension": ".py",
   "mimetype": "text/x-python",
   "name": "python",
   "nbconvert_exporter": "python",
   "pygments_lexer": "ipython3",
   "version": "3.7.6"
  }
 },
 "nbformat": 4,
 "nbformat_minor": 2
}
